{
 "cells": [
  {
   "cell_type": "code",
   "execution_count": 10,
   "metadata": {},
   "outputs": [],
   "source": [
    "num1 = int(input(\"Enter a number:\" ))\n",
    "num2 = int(input(\"Enter another number:\" ))\n",
    "\n",
    "if num1 > num2:\n",
    "      \n",
    "        if num1%num2 == 0:\n",
    "              try:\n",
    "                print(num1, \" is a multiple of \", num2)\n",
    "              except SyntaxError:\n",
    "                print (\"Does not work\")\n",
    "        else:\n",
    "              print(num1, \" is not multiple of \", num2)\n",
    "      \n",
    "else:\n",
    "      try:\n",
    "        if num2%num1 == 0:\n",
    "              print(num2, \" is a multiple of \", num1)\n",
    "      except SyntaxError:\n",
    "              print(\"Missing E\")"
   ]
  },
  {
   "cell_type": "code",
   "execution_count": 11,
   "metadata": {},
   "outputs": [
    {
     "name": "stdout",
     "output_type": "stream",
     "text": [
      "Max number of names exceeded\n"
     ]
    }
   ],
   "source": [
    "names = input(\"List of names:\") \n",
    "nameList = names.split()\n",
    "try:\n",
    "  print(nameList[3])\n",
    "except IndexError:\n",
    "  print(\"Max number of names exceeded\")"
   ]
  },
  {
   "cell_type": "code",
   "execution_count": 12,
   "metadata": {},
   "outputs": [
    {
     "name": "stdout",
     "output_type": "stream",
     "text": [
      "670\n",
      "530\n",
      "Please enter an integar without parenthesis\n"
     ]
    }
   ],
   "source": [
    "randomList = ['67', 53, '3O',72, '10']\n",
    "try:\n",
    "  for i in randomList:\n",
    "        print(int(i) * 10)\n",
    "except ValueError:\n",
    "  print(\"Please enter an integar without parenthesis\")\n"
   ]
  },
  {
   "cell_type": "code",
   "execution_count": 13,
   "metadata": {},
   "outputs": [
    {
     "name": "stdout",
     "output_type": "stream",
     "text": [
      "Oops! No such file\n"
     ]
    }
   ],
   "source": [
    "try:\n",
    "  fileName = input(\"Enter File:\")\n",
    "  print(open(fileName).read())\n",
    "except FileNotFoundError:\n",
    "  print(\"Oops! No such file\")"
   ]
  }
 ],
 "metadata": {
  "kernelspec": {
   "display_name": "Python 3",
   "language": "python",
   "name": "python3"
  },
  "language_info": {
   "codemirror_mode": {
    "name": "ipython",
    "version": 3
   },
   "file_extension": ".py",
   "mimetype": "text/x-python",
   "name": "python",
   "nbconvert_exporter": "python",
   "pygments_lexer": "ipython3",
   "version": "3.8.3"
  }
 },
 "nbformat": 4,
 "nbformat_minor": 2
}
